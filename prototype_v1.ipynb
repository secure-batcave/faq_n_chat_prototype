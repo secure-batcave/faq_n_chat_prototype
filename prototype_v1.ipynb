{
 "cells": [
  {
   "cell_type": "code",
   "execution_count": 5,
   "metadata": {},
   "outputs": [],
   "source": [
    "# Dependencies\n",
    "import json\n",
    "import openai"
   ]
  },
  {
   "cell_type": "code",
   "execution_count": 6,
   "metadata": {},
   "outputs": [
    {
     "name": "stdout",
     "output_type": "stream",
     "text": [
      "Topics in the data file:\n",
      "IPv4 and IPv6: Understanding the Differences, Structure, and Use Cases\n",
      "Static vs. Dynamic IPs: Assignment Methods and Security Implications\n",
      "Public vs. Private IPs: Networking Roles and Security Implications\n",
      "IP Address Format: Binary, Decimal, and Hexadecimal Representations\n",
      "Reserved IP Ranges: Private, Loopback, and Special-Purpose Addresses\n"
     ]
    }
   ],
   "source": [
    "# Get the list of topics from data.json\n",
    "\n",
    "def list_topics(file_path='data/data.json'):\n",
    "    \"\"\"\n",
    "    Prints the list of all topics from the JSON file.\n",
    "\n",
    "    :param file_path: Path to the JSON file containing the data.\n",
    "    \"\"\"\n",
    "    try:\n",
    "        # Load the JSON file\n",
    "        with open(file_path, 'r') as file:\n",
    "            data = json.load(file)\n",
    "        \n",
    "        # Extract and print topics\n",
    "        print(\"Topics in the data file:\")\n",
    "        for entry in data:\n",
    "            print(f\"{entry['topic']}\")\n",
    "    except FileNotFoundError:\n",
    "        print(\"The specified JSON file was not found.\")\n",
    "    except json.JSONDecodeError:\n",
    "        print(\"The JSON file could not be decoded.\")\n",
    "    except Exception as e:\n",
    "        print(f\"An error occurred: {e}\")\n",
    "\n",
    "list_topics()"
   ]
  },
  {
   "cell_type": "code",
   "execution_count": 7,
   "metadata": {},
   "outputs": [
    {
     "name": "stdout",
     "output_type": "stream",
     "text": [
      "An error occurred while generating the summary: 'ChatCompletionMessage' object is not subscriptable\n"
     ]
    }
   ],
   "source": [
    "# LlamaCpp client setup\n",
    "client = openai.OpenAI(\n",
    "    base_url=\"http://localhost:8080/v1\",\n",
    "    api_key=\"sk-no-key-required\"\n",
    ")\n",
    "\n",
    "# Select a topic, fetch the content.\n",
    "# Prompt a local LLM to summarize the fetched content.\n",
    "\n",
    "def get_topic_content(topic, file_path='data/data.json'):\n",
    "    \"\"\"\n",
    "    Fetches the content associated with a given topic from a JSON file.\n",
    "\n",
    "    :param topic: The topic to search for.\n",
    "    :param file_path: Path to the JSON file containing the data.\n",
    "    :return: Content associated with the topic or an error message if not found.\n",
    "    \"\"\"\n",
    "    try:\n",
    "        # Load the JSON file\n",
    "        with open(file_path, 'r') as file:\n",
    "            data = json.load(file)\n",
    "        \n",
    "        # Search for the topic\n",
    "        for entry in data:\n",
    "            if entry[\"topic\"] == topic:\n",
    "                return entry[\"content\"]\n",
    "        \n",
    "        return \"Topic not found.\"\n",
    "    except FileNotFoundError:\n",
    "        return \"The specified JSON file was not found.\"\n",
    "    except json.JSONDecodeError:\n",
    "        return \"The JSON file could not be decoded.\"\n",
    "    except Exception as e:\n",
    "        return f\"An error occurred: {e}\"\n",
    "\n",
    "\n",
    "# Function to inject content into a prompt and send to the server\n",
    "def summarize_topic(topic):\n",
    "    \"\"\"\n",
    "    Fetches the content of a topic, queries local LLM to summarize the content\n",
    "\n",
    "    :param topic: The topic to summarize.\n",
    "    :return: LLM response or error message.\n",
    "    \"\"\"\n",
    "    # Fetch the topic content\n",
    "    content = get_topic_content(topic)\n",
    "    if content == \"Topic not found.\" or \"An error occurred\" in content:\n",
    "        print(content)\n",
    "        return\n",
    "\n",
    "    # Define the system and user prompts\n",
    "    system_prompt = \"You are an AI assistant that summarizes content efficiently. Your summary should be shorter than the content\"\n",
    "    user_prompt = f\"Summarize the following content:\\n\\n{content}\"\n",
    "\n",
    "    # Send the prompt to the LlamaCpp server\n",
    "    try:\n",
    "        completion = client.chat.completions.create(\n",
    "            model=\"gemma-2-9b-it\",  # Edit if switching models\n",
    "            messages=[\n",
    "                {\"role\": \"system\", \"content\": system_prompt},\n",
    "                {\"role\": \"user\", \"content\": user_prompt}\n",
    "            ]\n",
    "        )\n",
    "        # Print the summary\n",
    "        print(\"Summary:\\n\", completion.choices[0].message.content)\n",
    "    except Exception as e:\n",
    "        print(f\"An error occurred while generating the summary: {e}\")\n",
    "\n",
    "topic_to_summarize = \"IPv4 and IPv6: Understanding the Differences, Structure, and Use Cases\"\n",
    "summarize_topic(topic_to_summarize)"
   ]
  }
 ],
 "metadata": {
  "kernelspec": {
   "display_name": "venv",
   "language": "python",
   "name": "python3"
  },
  "language_info": {
   "codemirror_mode": {
    "name": "ipython",
    "version": 3
   },
   "file_extension": ".py",
   "mimetype": "text/x-python",
   "name": "python",
   "nbconvert_exporter": "python",
   "pygments_lexer": "ipython3",
   "version": "3.12.3"
  }
 },
 "nbformat": 4,
 "nbformat_minor": 2
}
